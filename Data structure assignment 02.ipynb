{
 "cells": [
  {
   "cell_type": "markdown",
   "id": "0bf7b971-047b-419d-a27c-9f7655760c4e",
   "metadata": {},
   "source": [
    "Q1; comment code in python\n",
    "There is a wonderful feature in paython named comment, it is used to prevent the text from exicution.Basically a coder use comment for giving the description to a specific code, whatever it using for. So that When a other person do the work on that code will not facing any problem to understand the context of that code.\n",
    "In paython there are two ways for comment a code\n",
    "1) by using hatch (#code..)\n",
    "2) by using triple inverted comas( \"\"\"code\"\"\")\n",
    "so when person start the code with # or triple inverted coma's system identifies that it is not a code, and not taking any action for runnig it. For a pairadraph or big text we alwyas preffer to triple coma method.  "
   ]
  },
  {
   "cell_type": "code",
   "execution_count": null,
   "id": "24263141-7079-4c61-999e-a54938ea2561",
   "metadata": {},
   "outputs": [],
   "source": [
    "#This is not a code. Systam can never run it."
   ]
  },
  {
   "cell_type": "markdown",
   "id": "ab89daff-16e8-4a5e-b878-4e4173b97d5f",
   "metadata": {},
   "source": [
    "\"\"\"this is also not a code\"\"\""
   ]
  },
  {
   "cell_type": "code",
   "execution_count": null,
   "id": "8ea42503-2349-46c6-ba59-37fc8fc2e922",
   "metadata": {},
   "outputs": [],
   "source": []
  },
  {
   "cell_type": "markdown",
   "id": "a8e9a93e-ec1d-4831-b933-feaef9301e8e",
   "metadata": {},
   "source": [
    "Q2: variables and their values\n",
    "\n",
    "\n",
    "variable is a kind of a box in which the various type of data stored such as; int,string,float,boolian,list..etc.\n",
    "we are declaring the value of the variable by different ways like in a string we are using \"\" .Even if we use \"\" in a integer number then it also assigned as string.we can also chek the data type by a function named \"type()\".\n",
    "Integers without '' we can say int , in float has include the decimals also, in boolian there are only two value such as True or False."
   ]
  },
  {
   "cell_type": "code",
   "execution_count": 4,
   "id": "ef464eaf-27e4-40ba-a783-e60748846eb5",
   "metadata": {},
   "outputs": [],
   "source": [
    "var=\"123\""
   ]
  },
  {
   "cell_type": "code",
   "execution_count": 5,
   "id": "27ac0ad8-4338-4c2c-83b6-b551333228e5",
   "metadata": {},
   "outputs": [
    {
     "data": {
      "text/plain": [
       "str"
      ]
     },
     "execution_count": 5,
     "metadata": {},
     "output_type": "execute_result"
    }
   ],
   "source": [
    "type(var)"
   ]
  },
  {
   "cell_type": "markdown",
   "id": "f60dc150-f473-4c84-ab82-5e65b1eb8e28",
   "metadata": {},
   "source": [
    "There is an important point to note that boolian value'True' and 'False has a specific value; respectivily 1 and 0.Lets take a example for better understanding.If we can run the airthmatic opreation between both then we see that (1+0=1)"
   ]
  },
  {
   "cell_type": "code",
   "execution_count": 6,
   "id": "bc31729a-67a2-4cb7-91ef-c1ca373b47b7",
   "metadata": {},
   "outputs": [
    {
     "data": {
      "text/plain": [
       "1"
      ]
     },
     "execution_count": 6,
     "metadata": {},
     "output_type": "execute_result"
    }
   ],
   "source": [
    "True+False"
   ]
  },
  {
   "cell_type": "raw",
   "id": "e4df492b-7a6b-4aaa-9a23-254fb096ba96",
   "metadata": {},
   "source": []
  },
  {
   "cell_type": "markdown",
   "id": "f3de255d-062d-466c-be71-2a941f504b28",
   "metadata": {},
   "source": [
    "convert one data type into another\n",
    "\n",
    "\n",
    "For converting one data type into another we have to do following steps given in the examples:\n",
    "1) Firstly,we have to define a value with a variable \"d\". we are taking a boolian value, which we can chek by the help of function type().\n",
    "2) Then we have to creat a new variable in which we put the desirable data type assign with the pre define varible \"d\".\n",
    "then it will change their data type."
   ]
  },
  {
   "cell_type": "code",
   "execution_count": 4,
   "id": "3d836cdd-4ccd-4e7e-b4e1-c10ed4bb00ea",
   "metadata": {},
   "outputs": [],
   "source": [
    "d= True"
   ]
  },
  {
   "cell_type": "code",
   "execution_count": 5,
   "id": "2e3c1fa8-4753-4289-9d10-da40f061a73b",
   "metadata": {},
   "outputs": [
    {
     "data": {
      "text/plain": [
       "bool"
      ]
     },
     "execution_count": 5,
     "metadata": {},
     "output_type": "execute_result"
    }
   ],
   "source": [
    "type(d)."
   ]
  },
  {
   "cell_type": "code",
   "execution_count": 14,
   "id": "b2a50393-27ea-4037-b7c0-5192e7e3acdb",
   "metadata": {},
   "outputs": [],
   "source": [
    "d=str(d)"
   ]
  },
  {
   "cell_type": "code",
   "execution_count": 15,
   "id": "e0d31508-0ff3-4a6d-8cbd-ebf9b1ca0a78",
   "metadata": {},
   "outputs": [
    {
     "data": {
      "text/plain": [
       "str"
      ]
     },
     "execution_count": 15,
     "metadata": {},
     "output_type": "execute_result"
    }
   ],
   "source": [
    "type(d)"
   ]
  },
  {
   "cell_type": "raw",
   "id": "811e5cfd-69b5-4903-abd2-434cabfe852c",
   "metadata": {},
   "source": []
  },
  {
   "cell_type": "markdown",
   "id": "e328ce75-8bb2-42ea-aa79-8f93c6a7fd4e",
   "metadata": {},
   "source": [
    "Exicute a python script from a command line.\n",
    "\n",
    "\n",
    "Exicuting a python script from comand promt we have to do following steps;\n",
    "- open the command promt by searching \"cmd\" in search bar.\n",
    "- type \"python\" before starting the actual code.\n",
    "- type the code\n",
    "- call python script.py for exicuting the file.\n",
    "- Want to exit then use the fuction exit() or quit()."
   ]
  },
  {
   "cell_type": "raw",
   "id": "bbf32bb1-733f-4a6e-8d0a-d976bd8d001c",
   "metadata": {},
   "source": []
  },
  {
   "cell_type": "markdown",
   "id": "181a143a-e75f-4f06-97c9-ba84d3d59899",
   "metadata": {},
   "source": [
    "Q5; Given a list my_list=[1,2,3,4,5], write a code to slice the list and obtain the sub list [2,3]\n",
    "\n",
    "\n",
    "There are multiple ways to solve this problem some of them are following;"
   ]
  },
  {
   "cell_type": "code",
   "execution_count": 17,
   "id": "b9c3c2db-b4a2-4087-95b8-8f49c9e78fbf",
   "metadata": {},
   "outputs": [],
   "source": [
    "my_list=[1,2,3,4,5]"
   ]
  },
  {
   "cell_type": "code",
   "execution_count": 24,
   "id": "a5271097-574e-43ca-993c-4be00ca2a469",
   "metadata": {},
   "outputs": [
    {
     "data": {
      "text/plain": [
       "[2, 3]"
      ]
     },
     "execution_count": 24,
     "metadata": {},
     "output_type": "execute_result"
    }
   ],
   "source": [
    "my_list[1:3]"
   ]
  },
  {
   "cell_type": "code",
   "execution_count": 23,
   "id": "9ad26686-db8a-4f15-ab60-a9fc0a9771a5",
   "metadata": {},
   "outputs": [
    {
     "data": {
      "text/plain": [
       "[2, 3]"
      ]
     },
     "execution_count": 23,
     "metadata": {},
     "output_type": "execute_result"
    }
   ],
   "source": [
    "my_list[-4:-2]"
   ]
  },
  {
   "cell_type": "raw",
   "id": "64cbfba3-90f4-49a2-a222-3545dfd4db33",
   "metadata": {},
   "source": []
  },
  {
   "cell_type": "markdown",
   "id": "3637d37e-be91-4ec0-a045-120730b3479c",
   "metadata": {},
   "source": [
    "Q6: complex numbers mathamatics and python.\n",
    "\n",
    "\n",
    "In the mathamatices complex numbers are written as in a format ex; 4+2i where 'i' is a imagianary number but in python we use 'j' instead of 'i' so we can write the same as 4+2j\n",
    "\n"
   ]
  },
  {
   "cell_type": "raw",
   "id": "1b969d71-06d1-4351-9e32-a3eb4da7d602",
   "metadata": {},
   "source": []
  },
  {
   "cell_type": "markdown",
   "id": "119f7a22-eca5-48b7-b844-f280cc8edac4",
   "metadata": {},
   "source": [
    "Q7. Correct way to declare a variable.\n",
    "\n",
    "\n",
    "when we are declaring a variabe firstly we need to give a sutaible name for it, which should be according to the data. Then we use the sign of equal '=' for assiging the value with the variable. Then at the last we have to put the value in thr variable. Ex\n"
   ]
  },
  {
   "cell_type": "code",
   "execution_count": null,
   "id": "d8a8c029-bc7c-4a2d-9f65-52210972e9c0",
   "metadata": {},
   "outputs": [],
   "source": [
    "age= 25"
   ]
  },
  {
   "cell_type": "raw",
   "id": "5a66bac0-261f-4aac-a1a5-b486e4527fd0",
   "metadata": {},
   "source": []
  },
  {
   "cell_type": "markdown",
   "id": "eac61b39-68fa-41a5-a4fd-85b39b099a20",
   "metadata": {},
   "source": [
    "Q8. Declare a variable named price and assign the value 9.99 to it.What data type does this variable belongs to ?\n",
    "\n",
    "\n",
    "It is a Float data type of variable because it has value in decimales. We can also chek it by a function type()."
   ]
  },
  {
   "cell_type": "code",
   "execution_count": 27,
   "id": "a867c4f8-1df7-4b01-82f9-9284b952155c",
   "metadata": {},
   "outputs": [],
   "source": [
    "price= 9.99"
   ]
  },
  {
   "cell_type": "code",
   "execution_count": 29,
   "id": "ee76b155-769c-4988-b0cf-43550e3b24fe",
   "metadata": {},
   "outputs": [
    {
     "data": {
      "text/plain": [
       "float"
      ]
     },
     "execution_count": 29,
     "metadata": {},
     "output_type": "execute_result"
    }
   ],
   "source": [
    "type(price)"
   ]
  },
  {
   "cell_type": "raw",
   "id": "fdedb1be-04de-446e-ac7e-5c16c9de9eba",
   "metadata": {},
   "source": []
  },
  {
   "cell_type": "markdown",
   "id": "615d0ac4-a2a7-4a20-a605-8f94c0494795",
   "metadata": {},
   "source": [
    "Q9. Creat a string data type variable and print it"
   ]
  },
  {
   "cell_type": "code",
   "execution_count": 35,
   "id": "2e25247f-86e5-48b8-9303-ade256e5ef2b",
   "metadata": {},
   "outputs": [
    {
     "name": "stdout",
     "output_type": "stream",
     "text": [
      "Rahul Gupta\n"
     ]
    }
   ],
   "source": [
    "Name= \"Rahul Gupta\"\n",
    "print(Name)"
   ]
  },
  {
   "cell_type": "raw",
   "id": "38dab16b-3a29-4422-9820-f2a0439aa955",
   "metadata": {},
   "source": []
  },
  {
   "cell_type": "markdown",
   "id": "0ed3db47-5ac9-4da0-9ae7-8e1ce5055358",
   "metadata": {},
   "source": [
    "Q10;from string \"Hello World\" extract the \"World\""
   ]
  },
  {
   "cell_type": "code",
   "execution_count": 36,
   "id": "5620e71b-a547-4f58-8d0a-2ed301e3ed05",
   "metadata": {},
   "outputs": [],
   "source": [
    "a= \"Hello World\""
   ]
  },
  {
   "cell_type": "code",
   "execution_count": 41,
   "id": "15a9bb6d-326c-4ee5-aad2-50fc616fe7ec",
   "metadata": {},
   "outputs": [
    {
     "data": {
      "text/plain": [
       "'World'"
      ]
     },
     "execution_count": 41,
     "metadata": {},
     "output_type": "execute_result"
    }
   ],
   "source": [
    "a[-5:]"
   ]
  },
  {
   "cell_type": "raw",
   "id": "9e3e4c6a-ff0c-48c7-9584-1b27ecf010c0",
   "metadata": {},
   "source": []
  },
  {
   "cell_type": "markdown",
   "id": "981d4482-1e1b-4ebb-a8bf-195e4fffcd0a",
   "metadata": {},
   "source": [
    "Q11. Creat a veriable with boolean value"
   ]
  },
  {
   "cell_type": "code",
   "execution_count": 1,
   "id": "8491631b-deac-496d-bdc6-1c008c913fa4",
   "metadata": {},
   "outputs": [],
   "source": [
    "is_student= True"
   ]
  },
  {
   "cell_type": "code",
   "execution_count": 2,
   "id": "a0025270-08eb-434f-afa1-142abc59ad29",
   "metadata": {},
   "outputs": [
    {
     "data": {
      "text/plain": [
       "bool"
      ]
     },
     "execution_count": 2,
     "metadata": {},
     "output_type": "execute_result"
    }
   ],
   "source": [
    "type(is_student)"
   ]
  },
  {
   "cell_type": "code",
   "execution_count": null,
   "id": "b9121b76-4793-488e-a512-0821c52ed848",
   "metadata": {},
   "outputs": [],
   "source": []
  }
 ],
 "metadata": {
  "kernelspec": {
   "display_name": "Python 3 (ipykernel)",
   "language": "python",
   "name": "python3"
  },
  "language_info": {
   "codemirror_mode": {
    "name": "ipython",
    "version": 3
   },
   "file_extension": ".py",
   "mimetype": "text/x-python",
   "name": "python",
   "nbconvert_exporter": "python",
   "pygments_lexer": "ipython3",
   "version": "3.10.8"
  }
 },
 "nbformat": 4,
 "nbformat_minor": 5
}
